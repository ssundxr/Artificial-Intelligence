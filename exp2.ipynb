{
  "nbformat": 4,
  "nbformat_minor": 0,
  "metadata": {
    "colab": {
      "provenance": [],
      "authorship_tag": "ABX9TyM/xhQ34S5bbkYejJ3cx2ma",
      "include_colab_link": true
    },
    "kernelspec": {
      "name": "python3",
      "display_name": "Python 3"
    },
    "language_info": {
      "name": "python"
    }
  },
  "cells": [
    {
      "cell_type": "markdown",
      "metadata": {
        "id": "view-in-github",
        "colab_type": "text"
      },
      "source": [
        "<a href=\"https://colab.research.google.com/github/ssundxr/Artificial-Intelligence/blob/main/exp2.ipynb\" target=\"_parent\"><img src=\"https://colab.research.google.com/assets/colab-badge.svg\" alt=\"Open In Colab\"/></a>"
      ]
    },
    {
      "cell_type": "code",
      "execution_count": 2,
      "metadata": {
        "colab": {
          "base_uri": "https://localhost:8080/"
        },
        "id": "mKN39lkoZZVi",
        "outputId": "eb2c6ffa-1321-4909-f621-792d375d45c2"
      },
      "outputs": [
        {
          "output_type": "stream",
          "name": "stdout",
          "text": [
            "DataFrame:\n",
            "       Name  Age           City\n",
            "0    Shyam   24       New York\n",
            "1   Asmita   27    Los Angeles\n",
            "2    Divya   22        Chicago\n",
            "3  Manaswi   32        Houston\n",
            "4   Ritika   26  San Francisco\n",
            "\n",
            "Sorted DataFrame by Age:\n",
            "       Name  Age           City\n",
            "2    Divya   22        Chicago\n",
            "0    Shyam   24       New York\n",
            "4   Ritika   26  San Francisco\n",
            "1   Asmita   27    Los Angeles\n",
            "3  Manaswi   32        Houston\n"
          ]
        }
      ],
      "source": [
        "import pandas as pd\n",
        "\n",
        "data = {\n",
        "    'Name': ['Shyam', 'Asmita', 'Divya', 'Manaswi', 'Ritika'],\n",
        "    'Age': [24, 27, 22, 32, 26],\n",
        "    'City': ['New York', 'Los Angeles', 'Chicago', 'Houston', 'San Francisco']\n",
        "}\n",
        "\n",
        "df = pd.DataFrame(data)\n",
        "print(\"DataFrame:\\n\", df)\n",
        "\n",
        "sorted_df = df.sort_values(by='Age')\n",
        "print(\"\\nSorted DataFrame by Age:\\n\", sorted_df)\n"
      ]
    }
  ]
}