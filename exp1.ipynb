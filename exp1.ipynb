{
  "nbformat": 4,
  "nbformat_minor": 0,
  "metadata": {
    "colab": {
      "provenance": [],
      "authorship_tag": "ABX9TyMiq9HiOoXKFARG6MiN79iG",
      "include_colab_link": true
    },
    "kernelspec": {
      "name": "python3",
      "display_name": "Python 3"
    },
    "language_info": {
      "name": "python"
    }
  },
  "cells": [
    {
      "cell_type": "markdown",
      "metadata": {
        "id": "view-in-github",
        "colab_type": "text"
      },
      "source": [
        "<a href=\"https://colab.research.google.com/github/ssundxr/Artificial-Intelligence/blob/main/exp1.ipynb\" target=\"_parent\"><img src=\"https://colab.research.google.com/assets/colab-badge.svg\" alt=\"Open In Colab\"/></a>"
      ]
    },
    {
      "cell_type": "code",
      "execution_count": 1,
      "metadata": {
        "colab": {
          "base_uri": "https://localhost:8080/"
        },
        "id": "mKN39lkoZZVi",
        "outputId": "d4a310a0-6eaf-4e40-efea-928c66243df6"
      },
      "outputs": [
        {
          "output_type": "stream",
          "name": "stdout",
          "text": [
            "Original Array: [12  5  8 19  1 34  2]\n",
            "Sorted Array: [ 1  2  5  8 12 19 34]\n"
          ]
        }
      ],
      "source": [
        "import numpy as np\n",
        "\n",
        "arr = np.array([12, 5, 8, 19, 1, 34, 2])\n",
        "sorted_arr = np.sort(arr)\n",
        "\n",
        "print(\"Original Array:\", arr)\n",
        "print(\"Sorted Array:\", sorted_arr)\n"
      ]
    }
  ]
}